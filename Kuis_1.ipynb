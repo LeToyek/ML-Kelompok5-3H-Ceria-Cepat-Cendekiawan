{
  "cells": [
    {
      "cell_type": "markdown",
      "metadata": {
        "id": "view-in-github",
        "colab_type": "text"
      },
      "source": [
        "<a href=\"https://colab.research.google.com/github/LeToyek/ML-Kelompok5-3H-Ceria-Cepat-Cendikiawan/blob/main/Kuis_1.ipynb\" target=\"_parent\"><img src=\"https://colab.research.google.com/assets/colab-badge.svg\" alt=\"Open In Colab\"/></a>"
      ]
    },
    {
      "cell_type": "markdown",
      "metadata": {
        "id": "ey-t2NU0aD8i"
      },
      "source": [
        "# KUIS 1\n",
        "\n",
        "<B>KELOMPOK 5</B>\n",
        "\n",
        "    ANNGGOTA KELOMPOK:\n",
        "        1. ABDUL BASITH BAHI | 2141720177\n",
        "        2. BAGUS REZKY       | 2141720\n",
        "        3. DZAKA             | 2141720\n",
        "        4. MAULANA ARIF      | 2141720\n",
        "        5. SELY RULY AMANDA  | 2141720"
      ]
    },
    {
      "cell_type": "markdown",
      "metadata": {
        "id": "j8DxEb__d-qh"
      },
      "source": [
        "# Kasus - Klasifikasi Tulisan Tangan dengan Dataset MNIST"
      ]
    },
    {
      "cell_type": "markdown",
      "metadata": {
        "id": "Gb84a8a3eptF"
      },
      "source": [
        "## Deskripsi Umum\n",
        "Anda diminta untuk melakukan klasifikasi dengan menggunakan algoritma Naive Bayes dan SVM untuk merekognisi tulisan tangan dari dataset MNIST"
      ]
    },
    {
      "cell_type": "markdown",
      "metadata": {
        "id": "KEx5J6i1euPr"
      },
      "source": [
        "## Tentang Dataset MNIST\n",
        "\n",
        "Dataset MNIST (Modified National Institute of Standards and Technology) merupakan dataset berupa citra grayscale dengan ukuran 28x28 yang berisi tulisan tangan dari digit angka 0-9. Jumlah data dalam dataset ini adalah 70.000 data."
      ]
    },
    {
      "cell_type": "markdown",
      "metadata": {
        "id": "0G4hvAMGfa7T"
      },
      "source": [
        "## Detail Kuis\n",
        "\n",
        "1. Pastikan jumlah data setiap label angka (0-9). Apakah terdapat data imbalance pada dataset MNIST yang digunakan? Jelaskan jawaban kelompok Anda dan buktikan!\n",
        "\n",
        "**Jawab:**\n",
        "\n",
        "2. Tampilkan 15 buah citra pertama dari dataset MNIST berserta labelnya. Anda dapat menggunakan referensi dari Job Sheet 03.\n",
        "\n",
        "**Jawab:**\n",
        "\n",
        "3. Lakukan proses ekstraksi fitur pada data MNIST. Pada proses ini, Anda diperbolehkan untuk\n",
        "    - Langsung menggunakan nilai asli dari citra (nilai asli setiap pixel dari dataset) sebagai fitur.\n",
        "    - Melakukan ekstraksi fitur lain seperti histogram, PCA, atau yang lainnya. Anda diperbolehkan melakukan ekspolarasi pada proses ini.\n",
        "\n",
        "**Jawab:**\n",
        "\n",
        "4. Buatlah data training dan data testing menggunakan rasio 70:30, 80:20, 90:10.\n",
        "\n",
        "**Jawab:**\n",
        "\n",
        "5. Lakukan proses klasifikasi dengan menggunakan algoritma Naive Bayes dan SVM.\n",
        "   - Anda diperbolehkan untuk melakukan tunning parameter.\n",
        "   - Anda diperbolehkan mengeksplorasi jenis kernel yang digunakan pada SVM.\n",
        "\n",
        "**Jawab:**\n",
        "\n",
        "6. Evaluasi model yang Anda buat terhadap data training dan data testing.\n",
        "   - Gunakan metric *accuracy* untuk mengetahui tingkat akurasi data training dan data testing.\n",
        "   - Gunakan fungsi *classification_report* untuk mengetahui performa model secara holistik.\n",
        "   - Gunakan confusion matrix untuk mengetahui tingkat ketepatan pelabelan.\n",
        "\n",
        "**Jawab:**\n",
        "\n",
        "7. Tampilkan citra data testing berserta hasil pelabelannya. Anda dapat menggunakan Job Sheet 03 sebagai acuan.\n",
        "\n",
        "**Jawab:**\n",
        "\n",
        "8. Apa model terbaik yang Anda dapatkan? Bagaimana konfigurasinya? Berapa tingkat akurasi yang didapatkan? Jelaskan!"
      ]
    },
    {
      "cell_type": "markdown",
      "metadata": {
        "id": "aFXaRwkikbIk"
      },
      "source": [
        "# Bantuan\n",
        "\n",
        "Berikut merupakan kode bantuan untuk proses mengunduh dataset MNIST"
      ]
    },
    {
      "cell_type": "code",
      "execution_count": null,
      "metadata": {
        "id": "Ne3-Z5-wcTRt",
        "colab": {
          "base_uri": "https://localhost:8080/"
        },
        "outputId": "b7d74383-e3c3-4e68-e36f-34302b891275"
      },
      "outputs": [
        {
          "output_type": "stream",
          "name": "stderr",
          "text": [
            "/usr/local/lib/python3.10/dist-packages/sklearn/datasets/_openml.py:968: FutureWarning: The default value of `parser` will change from `'liac-arff'` to `'auto'` in 1.4. You can set `parser='auto'` to silence this warning. Therefore, an `ImportError` will be raised from 1.4 if the dataset is dense and pandas is not installed. Note that the pandas parser may return different data types. See the Notes Section in fetch_openml's API doc for details.\n",
            "  warn(\n"
          ]
        }
      ],
      "source": [
        "# Unduh Dataset MNIST\n",
        "from sklearn.datasets import fetch_openml\n",
        "\n",
        "mnist = fetch_openml('mnist_784')"
      ]
    },
    {
      "cell_type": "code",
      "execution_count": null,
      "metadata": {
        "id": "VFcYRExSk8wl",
        "colab": {
          "base_uri": "https://localhost:8080/"
        },
        "outputId": "7c88345f-e9cf-4a72-9c53-6ad7fcd30a22"
      },
      "outputs": [
        {
          "output_type": "stream",
          "name": "stdout",
          "text": [
            "**Author**: Yann LeCun, Corinna Cortes, Christopher J.C. Burges  \n",
            "**Source**: [MNIST Website](http://yann.lecun.com/exdb/mnist/) - Date unknown  \n",
            "**Please cite**:  \n",
            "\n",
            "The MNIST database of handwritten digits with 784 features, raw data available at: http://yann.lecun.com/exdb/mnist/. It can be split in a training set of the first 60,000 examples, and a test set of 10,000 examples  \n",
            "\n",
            "It is a subset of a larger set available from NIST. The digits have been size-normalized and centered in a fixed-size image. It is a good database for people who want to try learning techniques and pattern recognition methods on real-world data while spending minimal efforts on preprocessing and formatting. The original black and white (bilevel) images from NIST were size normalized to fit in a 20x20 pixel box while preserving their aspect ratio. The resulting images contain grey levels as a result of the anti-aliasing technique used by the normalization algorithm. the images were centered in a 28x28 image by computing the center of mass of the pixels, and translating the image so as to position this point at the center of the 28x28 field.  \n",
            "\n",
            "With some classification methods (particularly template-based methods, such as SVM and K-nearest neighbors), the error rate improves when the digits are centered by bounding box rather than center of mass. If you do this kind of pre-processing, you should report it in your publications. The MNIST database was constructed from NIST's NIST originally designated SD-3 as their training set and SD-1 as their test set. However, SD-3 is much cleaner and easier to recognize than SD-1. The reason for this can be found on the fact that SD-3 was collected among Census Bureau employees, while SD-1 was collected among high-school students. Drawing sensible conclusions from learning experiments requires that the result be independent of the choice of training set and test among the complete set of samples. Therefore it was necessary to build a new database by mixing NIST's datasets.  \n",
            "\n",
            "The MNIST training set is composed of 30,000 patterns from SD-3 and 30,000 patterns from SD-1. Our test set was composed of 5,000 patterns from SD-3 and 5,000 patterns from SD-1. The 60,000 pattern training set contained examples from approximately 250 writers. We made sure that the sets of writers of the training set and test set were disjoint. SD-1 contains 58,527 digit images written by 500 different writers. In contrast to SD-3, where blocks of data from each writer appeared in sequence, the data in SD-1 is scrambled. Writer identities for SD-1 is available and we used this information to unscramble the writers. We then split SD-1 in two: characters written by the first 250 writers went into our new training set. The remaining 250 writers were placed in our test set. Thus we had two sets with nearly 30,000 examples each. The new training set was completed with enough examples from SD-3, starting at pattern # 0, to make a full set of 60,000 training patterns. Similarly, the new test set was completed with SD-3 examples starting at pattern # 35,000 to make a full set with 60,000 test patterns. Only a subset of 10,000 test images (5,000 from SD-1 and 5,000 from SD-3) is available on this site. The full 60,000 sample training set is available.\n",
            "\n",
            "Downloaded from openml.org.\n"
          ]
        }
      ],
      "source": [
        "# Baca deskripsi dataset\n",
        "# Tahap ini mungkin diperlukan untuk lebih memahami dataset\n",
        "print(mnist.DESCR)"
      ]
    },
    {
      "cell_type": "code",
      "execution_count": null,
      "metadata": {
        "id": "vw14DeY0lgVF",
        "colab": {
          "base_uri": "https://localhost:8080/"
        },
        "outputId": "2cb39002-bd3d-41c0-fe0f-2f6784d7b864"
      },
      "outputs": [
        {
          "output_type": "execute_result",
          "data": {
            "text/plain": [
              "dict_keys(['data', 'target', 'frame', 'categories', 'feature_names', 'target_names', 'DESCR', 'details', 'url'])"
            ]
          },
          "metadata": {},
          "execution_count": 3
        }
      ],
      "source": [
        "# Inspeksi semua key dalam dataset\n",
        "# Cara ini digunakan untuk memahami struktur dari dataset MNIST\n",
        "mnist.keys()"
      ]
    },
    {
      "cell_type": "markdown",
      "source": [
        "## Import Library"
      ],
      "metadata": {
        "id": "jY-GuozzcMNh"
      }
    },
    {
      "cell_type": "code",
      "execution_count": null,
      "metadata": {
        "id": "I4SRLrS8mlNx"
      },
      "outputs": [],
      "source": [
        "import numpy as np\n",
        "import matplotlib.pyplot as plt\n",
        "from sklearn import datasets\n",
        "from sklearn.model_selection import train_test_split\n",
        "from sklearn.naive_bayes import GaussianNB\n",
        "from sklearn.svm import SVC\n",
        "from sklearn.metrics import accuracy_score, classification_report, confusion_matrix\n",
        "from sklearn.datasets import fetch_openml"
      ]
    },
    {
      "cell_type": "markdown",
      "source": [
        "##Download Data dari mnist_784"
      ],
      "metadata": {
        "id": "7zHty-BVcga8"
      }
    },
    {
      "cell_type": "code",
      "source": [
        "mnist = datasets.fetch_openml(\"mnist_784\")"
      ],
      "metadata": {
        "id": "xDCQpYrjcWDB",
        "colab": {
          "base_uri": "https://localhost:8080/"
        },
        "outputId": "31e73c57-bac3-4f45-efb9-75daaf3638c8"
      },
      "execution_count": null,
      "outputs": [
        {
          "output_type": "stream",
          "name": "stderr",
          "text": [
            "/usr/local/lib/python3.10/dist-packages/sklearn/datasets/_openml.py:968: FutureWarning: The default value of `parser` will change from `'liac-arff'` to `'auto'` in 1.4. You can set `parser='auto'` to silence this warning. Therefore, an `ImportError` will be raised from 1.4 if the dataset is dense and pandas is not installed. Note that the pandas parser may return different data types. See the Notes Section in fetch_openml's API doc for details.\n",
            "  warn(\n"
          ]
        }
      ]
    },
    {
      "cell_type": "markdown",
      "source": [
        "## Explorasi Data"
      ],
      "metadata": {
        "id": "fgLrySeZcmqF"
      }
    },
    {
      "cell_type": "code",
      "source": [
        "# 1. Eksplorasi Dataset\n",
        "labels, counts = np.unique(mnist.target, return_counts=True)\n",
        "print(\"Jumlah data setiap label:\")\n",
        "for label, count in zip(labels, counts):\n",
        "    print(f\"Label {label}: {count} data\")\n",
        "\n",
        "plt.figure(figsize=(10, 6))\n",
        "plt.bar(labels, counts, tick_label=labels)\n",
        "\n",
        "# Adding labels and title\n",
        "plt.xlabel('Label')\n",
        "plt.ylabel('Count')\n",
        "plt.title('Distribution of Labels in MNIST Dataset')\n",
        "\n",
        "# Show the plot\n",
        "plt.show()"
      ],
      "metadata": {
        "id": "LnrOmV38cQ72",
        "colab": {
          "base_uri": "https://localhost:8080/",
          "height": 764
        },
        "outputId": "51544723-eb1c-4852-e468-6ee19ddfd983"
      },
      "execution_count": null,
      "outputs": [
        {
          "output_type": "stream",
          "name": "stdout",
          "text": [
            "Jumlah data setiap label:\n",
            "Label 0: 6903 data\n",
            "Label 1: 7877 data\n",
            "Label 2: 6990 data\n",
            "Label 3: 7141 data\n",
            "Label 4: 6824 data\n",
            "Label 5: 6313 data\n",
            "Label 6: 6876 data\n",
            "Label 7: 7293 data\n",
            "Label 8: 6825 data\n",
            "Label 9: 6958 data\n"
          ]
        },
        {
          "output_type": "display_data",
          "data": {
            "text/plain": [
              "<Figure size 1000x600 with 1 Axes>"
            ],
            "image/png": "[encoded data removed]"
          },
          "metadata": {}
        }
      ]
    },
    {
      "cell_type": "code",
      "source": [
        "import pandas as pd\n",
        "\n",
        "# Data kelas Anda dalam bentuk dictionary\n",
        "data = {\n",
        "    'Label': [0, 1, 2, 3, 4, 5, 6, 7, 8, 9],\n",
        "    'Jumlah Data': [6903, 7877, 6990, 7141, 6824, 6313, 6876, 7293, 6825, 6958]\n",
        "}\n",
        "\n",
        "# Membuat DataFrame dari data\n",
        "df = pd.DataFrame(data)\n",
        "\n",
        "# Menghitung total jumlah data\n",
        "total_data = df['Jumlah Data'].sum()\n",
        "\n",
        "# Menambahkan kolom \"Persentase\" yang berisi persentase distribusi\n",
        "df['Persentase'] = (df['Jumlah Data'] / total_data) * 100\n",
        "\n",
        "# Menampilkan DataFrame\n",
        "print(df)"
      ],
      "metadata": {
        "colab": {
          "base_uri": "https://localhost:8080/"
        },
        "id": "-iM6V_jWfKqB",
        "outputId": "00dc9450-cdfa-4415-b47b-65fefd6875ec"
      },
      "execution_count": null,
      "outputs": [
        {
          "output_type": "stream",
          "name": "stdout",
          "text": [
            "   Label  Jumlah Data  Persentase\n",
            "0      0         6903    9.861429\n",
            "1      1         7877   11.252857\n",
            "2      2         6990    9.985714\n",
            "3      3         7141   10.201429\n",
            "4      4         6824    9.748571\n",
            "5      5         6313    9.018571\n",
            "6      6         6876    9.822857\n",
            "7      7         7293   10.418571\n",
            "8      8         6825    9.750000\n",
            "9      9         6958    9.940000\n"
          ]
        }
      ]
    },
    {
      "cell_type": "code",
      "source": [
        "import matplotlib.pyplot as plt\n",
        "from sklearn.datasets import fetch_openml\n",
        "\n",
        "# Mengunduh dataset MNIST\n",
        "mnist = fetch_openml('mnist_784', version=1, as_frame=False)\n",
        "\n",
        "# Mengambil data dan label\n",
        "X = mnist.data\n",
        "y = mnist.target\n",
        "\n",
        "# Menampilkan 15 citra pertama berserta labelnya\n",
        "plt.figure(figsize=(12, 5))\n",
        "for i in range(15):\n",
        "    plt.subplot(3, 5, i + 1)\n",
        "    plt.imshow(X[i].reshape(28, 28), cmap='gray')\n",
        "    plt.title(f'Label: {y[i]}')\n",
        "    plt.axis('off')\n",
        "\n",
        "plt.tight_layout()\n",
        "plt.show()"
      ],
      "metadata": {
        "id": "bH30y8_mfP8N",
        "colab": {
          "base_uri": "https://localhost:8080/",
          "height": 563
        },
        "outputId": "e7ffbb32-97fb-471d-d818-403ec1a5fd31"
      },
      "execution_count": null,
      "outputs": [
        {
          "output_type": "stream",
          "name": "stderr",
          "text": [
            "/usr/local/lib/python3.10/dist-packages/sklearn/datasets/_openml.py:968: FutureWarning: The default value of `parser` will change from `'liac-arff'` to `'auto'` in 1.4. You can set `parser='auto'` to silence this warning. Therefore, an `ImportError` will be raised from 1.4 if the dataset is dense and pandas is not installed. Note that the pandas parser may return different data types. See the Notes Section in fetch_openml's API doc for details.\n",
            "  warn(\n"
          ]
        },
        {
          "output_type": "display_data",
          "data": {
            "text/plain": [
              "<Figure size 1200x500 with 15 Axes>"
            ],
            "image/png": "[encoded data removed]"
          },
          "metadata": {}
        }
      ]
    },
    {
      "cell_type": "code",
      "source": [
        "from sklearn.svm import SVC\n",
        "from sklearn.decomposition import PCA as RandomizedPCA\n",
        "from sklearn.pipeline import make_pipeline\n",
        "\n",
        "pca = RandomizedPCA(n_components=150, whiten=True, random_state=42)\n",
        "svc = SVC(kernel='rbf', class_weight='balanced')\n",
        "model = make_pipeline(pca, svc)"
      ],
      "metadata": {
        "id": "q_d0O31Xfnly"
      },
      "execution_count": null,
      "outputs": []
    },
    {
      "cell_type": "code",
      "source": [
        "# pemisahan data training dan data testing\n",
        "\n",
        "from sklearn.model_selection import train_test_split\n",
        "Xtrain, Xtest, ytrain, ytest = train_test_split(X, y, test_size = 0.1,\n",
        "                                                random_state=42)"
      ],
      "metadata": {
        "id": "dBFlJztOhk1D"
      },
      "execution_count": null,
      "outputs": []
    },
    {
      "cell_type": "code",
      "source": [
        "from sklearn.naive_bayes import GaussianNB\n",
        "nb = GaussianNB()\n",
        "nb.fit(Xtrain, ytrain)"
      ],
      "metadata": {
        "id": "YOK4VhmzhlVK"
      },
      "execution_count": null,
      "outputs": []
    },
    {
      "cell_type": "code",
      "source": [
        "print(\"Naive Bayes score: \",nb.score(Xtest, ytest))"
      ],
      "metadata": {
        "id": "wMIsE51Thofv"
      },
      "execution_count": null,
      "outputs": []
    },
    {
      "cell_type": "code",
      "source": [
        "from sklearn.metrics import classification_report\n",
        "print(classification_report(ytest, yfit,\n",
        "                            target_names=mnist.target_names))"
      ],
      "metadata": {
        "id": "s-k_cMPyhZTu"
      },
      "execution_count": null,
      "outputs": []
    },
    {
      "cell_type": "code",
      "source": [
        "# bentuk confusion matrix\n",
        "\n",
        "from sklearn.metrics import confusion_matrix\n",
        "import seaborn as sns\n",
        "mat = confusion_matrix(ytest, yfit)\n",
        "sns.heatmap(mat.T, square=True, annot=True, fmt='d', cbar=False,\n",
        "            xticklabels=mnist.target_names,\n",
        "            yticklabels=mnist.target_names)\n",
        "plt.xlabel('true label')\n",
        "plt.ylabel('predicted label')"
      ],
      "metadata": {
        "id": "NMt6kPSQh2DX"
      },
      "execution_count": null,
      "outputs": []
    }
  ],
  "metadata": {
    "colab": {
      "provenance": [],
      "include_colab_link": true
    },
    "kernelspec": {
      "display_name": "Python 3",
      "name": "python3"
    },
    "language_info": {
      "name": "python"
    }
  },
  "nbformat": 4,
  "nbformat_minor": 0
}